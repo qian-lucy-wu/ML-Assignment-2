{
 "cells": [
  {
   "cell_type": "markdown",
   "id": "2e83f338",
   "metadata": {},
   "source": [
    "### Assignment 2: Interactions in Regression, Fixed Effects in Regression and Logistic Regression"
   ]
  },
  {
   "cell_type": "code",
   "execution_count": 1,
   "id": "1613dd1c",
   "metadata": {},
   "outputs": [],
   "source": [
    "import numpy as np\n",
    "from sklearn import datasets\n",
    "import pandas as pd\n",
    "from sklearn.linear_model import LogisticRegression, LinearRegression\n",
    "from sklearn.model_selection import train_test_split\n",
    "from sklearn.preprocessing import RobustScaler\n",
    "from sklearn.metrics import confusion_matrix, classification_report"
   ]
  },
  {
   "cell_type": "markdown",
   "id": "96d5945c",
   "metadata": {},
   "source": [
    "### Question 1: Sales.csv"
   ]
  },
  {
   "cell_type": "markdown",
   "id": "d6b6ec72",
   "metadata": {},
   "source": [
    "### Linear regression model"
   ]
  },
  {
   "cell_type": "code",
   "execution_count": 2,
   "id": "bbfa4d0c",
   "metadata": {},
   "outputs": [
    {
     "data": {
      "text/html": [
       "<div>\n",
       "<style scoped>\n",
       "    .dataframe tbody tr th:only-of-type {\n",
       "        vertical-align: middle;\n",
       "    }\n",
       "\n",
       "    .dataframe tbody tr th {\n",
       "        vertical-align: top;\n",
       "    }\n",
       "\n",
       "    .dataframe thead th {\n",
       "        text-align: right;\n",
       "    }\n",
       "</style>\n",
       "<table border=\"1\" class=\"dataframe\">\n",
       "  <thead>\n",
       "    <tr style=\"text-align: right;\">\n",
       "      <th></th>\n",
       "      <th>Unnamed: 0</th>\n",
       "      <th>area1_sales</th>\n",
       "      <th>area2_sales</th>\n",
       "      <th>area3_sales</th>\n",
       "      <th>total_sales</th>\n",
       "    </tr>\n",
       "  </thead>\n",
       "  <tbody>\n",
       "    <tr>\n",
       "      <th>0</th>\n",
       "      <td>1000</td>\n",
       "      <td>0.79</td>\n",
       "      <td>0.80</td>\n",
       "      <td>0.02</td>\n",
       "      <td>1.75</td>\n",
       "    </tr>\n",
       "    <tr>\n",
       "      <th>1</th>\n",
       "      <td>1001</td>\n",
       "      <td>0.83</td>\n",
       "      <td>0.08</td>\n",
       "      <td>0.18</td>\n",
       "      <td>1.75</td>\n",
       "    </tr>\n",
       "    <tr>\n",
       "      <th>2</th>\n",
       "      <td>1002</td>\n",
       "      <td>0.85</td>\n",
       "      <td>0.01</td>\n",
       "      <td>0.22</td>\n",
       "      <td>1.75</td>\n",
       "    </tr>\n",
       "    <tr>\n",
       "      <th>3</th>\n",
       "      <td>1003</td>\n",
       "      <td>1.25</td>\n",
       "      <td>0.00</td>\n",
       "      <td>0.03</td>\n",
       "      <td>1.75</td>\n",
       "    </tr>\n",
       "    <tr>\n",
       "      <th>4</th>\n",
       "      <td>1004</td>\n",
       "      <td>0.72</td>\n",
       "      <td>0.04</td>\n",
       "      <td>0.10</td>\n",
       "      <td>1.74</td>\n",
       "    </tr>\n",
       "    <tr>\n",
       "      <th>...</th>\n",
       "      <td>...</td>\n",
       "      <td>...</td>\n",
       "      <td>...</td>\n",
       "      <td>...</td>\n",
       "      <td>...</td>\n",
       "    </tr>\n",
       "    <tr>\n",
       "      <th>2995</th>\n",
       "      <td>3995</td>\n",
       "      <td>0.20</td>\n",
       "      <td>0.00</td>\n",
       "      <td>0.07</td>\n",
       "      <td>0.49</td>\n",
       "    </tr>\n",
       "    <tr>\n",
       "      <th>2996</th>\n",
       "      <td>3996</td>\n",
       "      <td>0.28</td>\n",
       "      <td>0.00</td>\n",
       "      <td>0.04</td>\n",
       "      <td>0.49</td>\n",
       "    </tr>\n",
       "    <tr>\n",
       "      <th>2997</th>\n",
       "      <td>3997</td>\n",
       "      <td>0.00</td>\n",
       "      <td>0.49</td>\n",
       "      <td>0.00</td>\n",
       "      <td>0.49</td>\n",
       "    </tr>\n",
       "    <tr>\n",
       "      <th>2998</th>\n",
       "      <td>3998</td>\n",
       "      <td>0.07</td>\n",
       "      <td>0.09</td>\n",
       "      <td>0.07</td>\n",
       "      <td>0.49</td>\n",
       "    </tr>\n",
       "    <tr>\n",
       "      <th>2999</th>\n",
       "      <td>3999</td>\n",
       "      <td>0.24</td>\n",
       "      <td>0.00</td>\n",
       "      <td>0.06</td>\n",
       "      <td>0.49</td>\n",
       "    </tr>\n",
       "  </tbody>\n",
       "</table>\n",
       "<p>3000 rows × 5 columns</p>\n",
       "</div>"
      ],
      "text/plain": [
       "      Unnamed: 0  area1_sales  area2_sales  area3_sales  total_sales\n",
       "0           1000         0.79         0.80         0.02         1.75\n",
       "1           1001         0.83         0.08         0.18         1.75\n",
       "2           1002         0.85         0.01         0.22         1.75\n",
       "3           1003         1.25         0.00         0.03         1.75\n",
       "4           1004         0.72         0.04         0.10         1.74\n",
       "...          ...          ...          ...          ...          ...\n",
       "2995        3995         0.20         0.00         0.07         0.49\n",
       "2996        3996         0.28         0.00         0.04         0.49\n",
       "2997        3997         0.00         0.49         0.00         0.49\n",
       "2998        3998         0.07         0.09         0.07         0.49\n",
       "2999        3999         0.24         0.00         0.06         0.49\n",
       "\n",
       "[3000 rows x 5 columns]"
      ]
     },
     "execution_count": 2,
     "metadata": {},
     "output_type": "execute_result"
    }
   ],
   "source": [
    "# Load the dataset from local csv file\n",
    "df = pd.read_csv(\"/Users/Administratoor/Documents/Winter/BAX 452 - Machine Learning/Assignment 2/sales.csv\")\n",
    "df"
   ]
  },
  {
   "cell_type": "code",
   "execution_count": 4,
   "id": "fc9322bf",
   "metadata": {},
   "outputs": [
    {
     "name": "stdout",
     "output_type": "stream",
     "text": [
      "<class 'pandas.core.frame.DataFrame'>\n",
      "RangeIndex: 3000 entries, 0 to 2999\n",
      "Data columns (total 5 columns):\n",
      " #   Column       Non-Null Count  Dtype  \n",
      "---  ------       --------------  -----  \n",
      " 0   Unnamed: 0   3000 non-null   int64  \n",
      " 1   area1_sales  3000 non-null   float64\n",
      " 2   area2_sales  3000 non-null   float64\n",
      " 3   area3_sales  3000 non-null   float64\n",
      " 4   total_sales  3000 non-null   float64\n",
      "dtypes: float64(4), int64(1)\n",
      "memory usage: 117.3 KB\n"
     ]
    }
   ],
   "source": [
    "df.info()"
   ]
  },
  {
   "cell_type": "code",
   "execution_count": 5,
   "id": "b34c51fc",
   "metadata": {},
   "outputs": [
    {
     "data": {
      "text/plain": [
       "Index(['Unnamed: 0', 'area1_sales', 'area2_sales', 'area3_sales',\n",
       "       'total_sales'],\n",
       "      dtype='object')"
      ]
     },
     "execution_count": 5,
     "metadata": {},
     "output_type": "execute_result"
    }
   ],
   "source": [
    "df.columns"
   ]
  },
  {
   "cell_type": "code",
   "execution_count": 6,
   "id": "5388bc13",
   "metadata": {},
   "outputs": [
    {
     "data": {
      "text/plain": [
       "Unnamed: 0     0\n",
       "area1_sales    0\n",
       "area2_sales    0\n",
       "area3_sales    0\n",
       "total_sales    0\n",
       "dtype: int64"
      ]
     },
     "execution_count": 6,
     "metadata": {},
     "output_type": "execute_result"
    }
   ],
   "source": [
    "df.isnull().sum() # Find no null values in the raw dataset"
   ]
  },
  {
   "cell_type": "code",
   "execution_count": 8,
   "id": "dc7c5d10",
   "metadata": {},
   "outputs": [],
   "source": [
    "# Build a linear regression model with three independent variables\n",
    "x = df[['area1_sales','area2_sales','area3_sales']]\n",
    "y = df[['total_sales']]"
   ]
  },
  {
   "cell_type": "code",
   "execution_count": 9,
   "id": "bb357434",
   "metadata": {},
   "outputs": [
    {
     "data": {
      "text/html": [
       "<div>\n",
       "<style scoped>\n",
       "    .dataframe tbody tr th:only-of-type {\n",
       "        vertical-align: middle;\n",
       "    }\n",
       "\n",
       "    .dataframe tbody tr th {\n",
       "        vertical-align: top;\n",
       "    }\n",
       "\n",
       "    .dataframe thead th {\n",
       "        text-align: right;\n",
       "    }\n",
       "</style>\n",
       "<table border=\"1\" class=\"dataframe\">\n",
       "  <thead>\n",
       "    <tr style=\"text-align: right;\">\n",
       "      <th></th>\n",
       "      <th>area1_sales</th>\n",
       "      <th>area2_sales</th>\n",
       "      <th>area3_sales</th>\n",
       "    </tr>\n",
       "  </thead>\n",
       "  <tbody>\n",
       "    <tr>\n",
       "      <th>0</th>\n",
       "      <td>0.79</td>\n",
       "      <td>0.80</td>\n",
       "      <td>0.02</td>\n",
       "    </tr>\n",
       "    <tr>\n",
       "      <th>1</th>\n",
       "      <td>0.83</td>\n",
       "      <td>0.08</td>\n",
       "      <td>0.18</td>\n",
       "    </tr>\n",
       "    <tr>\n",
       "      <th>2</th>\n",
       "      <td>0.85</td>\n",
       "      <td>0.01</td>\n",
       "      <td>0.22</td>\n",
       "    </tr>\n",
       "    <tr>\n",
       "      <th>3</th>\n",
       "      <td>1.25</td>\n",
       "      <td>0.00</td>\n",
       "      <td>0.03</td>\n",
       "    </tr>\n",
       "    <tr>\n",
       "      <th>4</th>\n",
       "      <td>0.72</td>\n",
       "      <td>0.04</td>\n",
       "      <td>0.10</td>\n",
       "    </tr>\n",
       "    <tr>\n",
       "      <th>...</th>\n",
       "      <td>...</td>\n",
       "      <td>...</td>\n",
       "      <td>...</td>\n",
       "    </tr>\n",
       "    <tr>\n",
       "      <th>2995</th>\n",
       "      <td>0.20</td>\n",
       "      <td>0.00</td>\n",
       "      <td>0.07</td>\n",
       "    </tr>\n",
       "    <tr>\n",
       "      <th>2996</th>\n",
       "      <td>0.28</td>\n",
       "      <td>0.00</td>\n",
       "      <td>0.04</td>\n",
       "    </tr>\n",
       "    <tr>\n",
       "      <th>2997</th>\n",
       "      <td>0.00</td>\n",
       "      <td>0.49</td>\n",
       "      <td>0.00</td>\n",
       "    </tr>\n",
       "    <tr>\n",
       "      <th>2998</th>\n",
       "      <td>0.07</td>\n",
       "      <td>0.09</td>\n",
       "      <td>0.07</td>\n",
       "    </tr>\n",
       "    <tr>\n",
       "      <th>2999</th>\n",
       "      <td>0.24</td>\n",
       "      <td>0.00</td>\n",
       "      <td>0.06</td>\n",
       "    </tr>\n",
       "  </tbody>\n",
       "</table>\n",
       "<p>3000 rows × 3 columns</p>\n",
       "</div>"
      ],
      "text/plain": [
       "      area1_sales  area2_sales  area3_sales\n",
       "0            0.79         0.80         0.02\n",
       "1            0.83         0.08         0.18\n",
       "2            0.85         0.01         0.22\n",
       "3            1.25         0.00         0.03\n",
       "4            0.72         0.04         0.10\n",
       "...           ...          ...          ...\n",
       "2995         0.20         0.00         0.07\n",
       "2996         0.28         0.00         0.04\n",
       "2997         0.00         0.49         0.00\n",
       "2998         0.07         0.09         0.07\n",
       "2999         0.24         0.00         0.06\n",
       "\n",
       "[3000 rows x 3 columns]"
      ]
     },
     "execution_count": 9,
     "metadata": {},
     "output_type": "execute_result"
    }
   ],
   "source": [
    "x"
   ]
  },
  {
   "cell_type": "code",
   "execution_count": 10,
   "id": "59bdc833",
   "metadata": {},
   "outputs": [
    {
     "data": {
      "text/html": [
       "<div>\n",
       "<style scoped>\n",
       "    .dataframe tbody tr th:only-of-type {\n",
       "        vertical-align: middle;\n",
       "    }\n",
       "\n",
       "    .dataframe tbody tr th {\n",
       "        vertical-align: top;\n",
       "    }\n",
       "\n",
       "    .dataframe thead th {\n",
       "        text-align: right;\n",
       "    }\n",
       "</style>\n",
       "<table border=\"1\" class=\"dataframe\">\n",
       "  <thead>\n",
       "    <tr style=\"text-align: right;\">\n",
       "      <th></th>\n",
       "      <th>total_sales</th>\n",
       "    </tr>\n",
       "  </thead>\n",
       "  <tbody>\n",
       "    <tr>\n",
       "      <th>0</th>\n",
       "      <td>1.75</td>\n",
       "    </tr>\n",
       "    <tr>\n",
       "      <th>1</th>\n",
       "      <td>1.75</td>\n",
       "    </tr>\n",
       "    <tr>\n",
       "      <th>2</th>\n",
       "      <td>1.75</td>\n",
       "    </tr>\n",
       "    <tr>\n",
       "      <th>3</th>\n",
       "      <td>1.75</td>\n",
       "    </tr>\n",
       "    <tr>\n",
       "      <th>4</th>\n",
       "      <td>1.74</td>\n",
       "    </tr>\n",
       "    <tr>\n",
       "      <th>...</th>\n",
       "      <td>...</td>\n",
       "    </tr>\n",
       "    <tr>\n",
       "      <th>2995</th>\n",
       "      <td>0.49</td>\n",
       "    </tr>\n",
       "    <tr>\n",
       "      <th>2996</th>\n",
       "      <td>0.49</td>\n",
       "    </tr>\n",
       "    <tr>\n",
       "      <th>2997</th>\n",
       "      <td>0.49</td>\n",
       "    </tr>\n",
       "    <tr>\n",
       "      <th>2998</th>\n",
       "      <td>0.49</td>\n",
       "    </tr>\n",
       "    <tr>\n",
       "      <th>2999</th>\n",
       "      <td>0.49</td>\n",
       "    </tr>\n",
       "  </tbody>\n",
       "</table>\n",
       "<p>3000 rows × 1 columns</p>\n",
       "</div>"
      ],
      "text/plain": [
       "      total_sales\n",
       "0            1.75\n",
       "1            1.75\n",
       "2            1.75\n",
       "3            1.75\n",
       "4            1.74\n",
       "...           ...\n",
       "2995         0.49\n",
       "2996         0.49\n",
       "2997         0.49\n",
       "2998         0.49\n",
       "2999         0.49\n",
       "\n",
       "[3000 rows x 1 columns]"
      ]
     },
     "execution_count": 10,
     "metadata": {},
     "output_type": "execute_result"
    }
   ],
   "source": [
    "y"
   ]
  },
  {
   "cell_type": "code",
   "execution_count": 11,
   "id": "bd36f4c8",
   "metadata": {},
   "outputs": [],
   "source": [
    "# Splitting data into train and test subsets\n",
    "x_train , x_test , y_train , y_test = train_test_split(x, y, test_size= 0.25 , random_state=42)"
   ]
  },
  {
   "cell_type": "code",
   "execution_count": 12,
   "id": "199c30c1",
   "metadata": {},
   "outputs": [],
   "source": [
    "# Scaling data using Robust Scalar\n",
    "ro_scaler=RobustScaler()\n",
    "x_train=ro_scaler.fit_transform(x_train)\n",
    "x_test=ro_scaler.fit_transform(x_test)"
   ]
  },
  {
   "cell_type": "code",
   "execution_count": 16,
   "id": "a69d98f1",
   "metadata": {},
   "outputs": [
    {
     "data": {
      "text/plain": [
       "LinearRegression()"
      ]
     },
     "execution_count": 16,
     "metadata": {},
     "output_type": "execute_result"
    }
   ],
   "source": [
    "reg = LinearRegression()\n",
    "reg.fit(x_train,y_train)"
   ]
  },
  {
   "cell_type": "code",
   "execution_count": 23,
   "id": "0a1a5382",
   "metadata": {},
   "outputs": [
    {
     "name": "stdout",
     "output_type": "stream",
     "text": [
      "0.7037260514801333\n",
      "[0.76212315]\n",
      "[[0.30837903 0.05992989 0.12899234]]\n"
     ]
    }
   ],
   "source": [
    "print(reg.score(x_test,y_test)) # return R^squared\n",
    "print(reg.intercept_)\n",
    "print(reg.coef_)"
   ]
  },
  {
   "cell_type": "markdown",
   "id": "bff9a638",
   "metadata": {},
   "source": [
    "### Effects of interactions"
   ]
  },
  {
   "cell_type": "code",
   "execution_count": 54,
   "id": "5f85f17b",
   "metadata": {},
   "outputs": [],
   "source": [
    "area1_sales = df[['area1_sales']]\n",
    "area2_sales = df[['area2_sales']]\n",
    "area3_sales = df[['area3_sales']]"
   ]
  },
  {
   "cell_type": "code",
   "execution_count": 55,
   "id": "3e201d38",
   "metadata": {},
   "outputs": [
    {
     "data": {
      "text/html": [
       "<div>\n",
       "<style scoped>\n",
       "    .dataframe tbody tr th:only-of-type {\n",
       "        vertical-align: middle;\n",
       "    }\n",
       "\n",
       "    .dataframe tbody tr th {\n",
       "        vertical-align: top;\n",
       "    }\n",
       "\n",
       "    .dataframe thead th {\n",
       "        text-align: right;\n",
       "    }\n",
       "</style>\n",
       "<table border=\"1\" class=\"dataframe\">\n",
       "  <thead>\n",
       "    <tr style=\"text-align: right;\">\n",
       "      <th></th>\n",
       "      <th>area1_sales</th>\n",
       "    </tr>\n",
       "  </thead>\n",
       "  <tbody>\n",
       "    <tr>\n",
       "      <th>0</th>\n",
       "      <td>0.79</td>\n",
       "    </tr>\n",
       "    <tr>\n",
       "      <th>1</th>\n",
       "      <td>0.83</td>\n",
       "    </tr>\n",
       "    <tr>\n",
       "      <th>2</th>\n",
       "      <td>0.85</td>\n",
       "    </tr>\n",
       "    <tr>\n",
       "      <th>3</th>\n",
       "      <td>1.25</td>\n",
       "    </tr>\n",
       "    <tr>\n",
       "      <th>4</th>\n",
       "      <td>0.72</td>\n",
       "    </tr>\n",
       "    <tr>\n",
       "      <th>...</th>\n",
       "      <td>...</td>\n",
       "    </tr>\n",
       "    <tr>\n",
       "      <th>2995</th>\n",
       "      <td>0.20</td>\n",
       "    </tr>\n",
       "    <tr>\n",
       "      <th>2996</th>\n",
       "      <td>0.28</td>\n",
       "    </tr>\n",
       "    <tr>\n",
       "      <th>2997</th>\n",
       "      <td>0.00</td>\n",
       "    </tr>\n",
       "    <tr>\n",
       "      <th>2998</th>\n",
       "      <td>0.07</td>\n",
       "    </tr>\n",
       "    <tr>\n",
       "      <th>2999</th>\n",
       "      <td>0.24</td>\n",
       "    </tr>\n",
       "  </tbody>\n",
       "</table>\n",
       "<p>3000 rows × 1 columns</p>\n",
       "</div>"
      ],
      "text/plain": [
       "      area1_sales\n",
       "0            0.79\n",
       "1            0.83\n",
       "2            0.85\n",
       "3            1.25\n",
       "4            0.72\n",
       "...           ...\n",
       "2995         0.20\n",
       "2996         0.28\n",
       "2997         0.00\n",
       "2998         0.07\n",
       "2999         0.24\n",
       "\n",
       "[3000 rows x 1 columns]"
      ]
     },
     "execution_count": 55,
     "metadata": {},
     "output_type": "execute_result"
    }
   ],
   "source": [
    "area1_sales"
   ]
  },
  {
   "cell_type": "code",
   "execution_count": 42,
   "id": "77869aa7",
   "metadata": {},
   "outputs": [],
   "source": [
    "import seaborn as sns\n",
    "import statsmodels.formula.api as smf"
   ]
  },
  {
   "cell_type": "code",
   "execution_count": 46,
   "id": "7dcb86c2",
   "metadata": {},
   "outputs": [
    {
     "name": "stdout",
     "output_type": "stream",
     "text": [
      "                 Generalized Linear Model Regression Results                  \n",
      "==============================================================================\n",
      "Dep. Variable:                      y   No. Observations:                 3000\n",
      "Model:                            GLM   Df Residuals:                     2996\n",
      "Model Family:                Gaussian   Df Model:                            3\n",
      "Link Function:               identity   Scale:                        0.035294\n",
      "Method:                          IRLS   Log-Likelihood:                 761.25\n",
      "Date:                Thu, 19 Jan 2023   Deviance:                       105.74\n",
      "Time:                        12:43:57   Pearson chi2:                     106.\n",
      "No. Iterations:                     3   Pseudo R-squ. (CS):             0.9050\n",
      "Covariance Type:            nonrobust                                         \n",
      "===============================================================================\n",
      "                  coef    std err          z      P>|z|      [0.025      0.975]\n",
      "-------------------------------------------------------------------------------\n",
      "Intercept       0.2601      0.008     30.743      0.000       0.243       0.277\n",
      "area1_sales     0.9148      0.013     72.435      0.000       0.890       0.940\n",
      "area2_sales     0.7489      0.015     49.102      0.000       0.719       0.779\n",
      "area3_sales     1.7136      0.039     44.344      0.000       1.638       1.789\n",
      "===============================================================================\n"
     ]
    }
   ],
   "source": [
    "# Linear regression model without interaction\n",
    "sales_model = smf.glm(formula='y ~ area1_sales + area2_sales + area3_sales', data=df)\n",
    "\n",
    "result = sales_model.fit()\n",
    "print(result.summary())"
   ]
  },
  {
   "cell_type": "code",
   "execution_count": 48,
   "id": "f0e7644b",
   "metadata": {},
   "outputs": [
    {
     "name": "stdout",
     "output_type": "stream",
     "text": [
      "                 Generalized Linear Model Regression Results                  \n",
      "==============================================================================\n",
      "Dep. Variable:                      y   No. Observations:                 3000\n",
      "Model:                            GLM   Df Residuals:                     2995\n",
      "Model Family:                Gaussian   Df Model:                            4\n",
      "Link Function:               identity   Scale:                        0.034805\n",
      "Method:                          IRLS   Log-Likelihood:                 782.67\n",
      "Date:                Thu, 19 Jan 2023   Deviance:                       104.24\n",
      "Time:                        12:59:52   Pearson chi2:                     104.\n",
      "No. Iterations:                     3   Pseudo R-squ. (CS):             0.9094\n",
      "Covariance Type:            nonrobust                                         \n",
      "===========================================================================================\n",
      "                              coef    std err          z      P>|z|      [0.025      0.975]\n",
      "-------------------------------------------------------------------------------------------\n",
      "Intercept                   0.2698      0.009     31.629      0.000       0.253       0.287\n",
      "area1_sales                 0.8889      0.013     67.599      0.000       0.863       0.915\n",
      "area2_sales                 0.6912      0.018     39.460      0.000       0.657       0.725\n",
      "area3_sales                 1.7027      0.038     44.326      0.000       1.627       1.778\n",
      "area1_sales:area2_sales     0.4149      0.063      6.563      0.000       0.291       0.539\n",
      "===========================================================================================\n"
     ]
    }
   ],
   "source": [
    "# Linear regression model with interaction between x1 and x2\n",
    "sales_model_interaction12 = smf.glm(formula='y ~ area1_sales + area2_sales + area3_sales + area1_sales:area2_sales', data=df)\n",
    "\n",
    "result12 = sales_model_interaction12.fit()\n",
    "print(result12.summary())\n",
    "\n",
    "# The coefficient of interaction term area1_sales:area2_sales is significant.\n",
    "# The R-squared also increased slight from 0.9050 to 0.9094 for the entire model.\n",
    "# The coefficients of x1,x2,x3 have not changed drastically after adding the interaction term."
   ]
  },
  {
   "cell_type": "code",
   "execution_count": 49,
   "id": "d3b28409",
   "metadata": {},
   "outputs": [
    {
     "name": "stdout",
     "output_type": "stream",
     "text": [
      "                 Generalized Linear Model Regression Results                  \n",
      "==============================================================================\n",
      "Dep. Variable:                      y   No. Observations:                 3000\n",
      "Model:                            GLM   Df Residuals:                     2995\n",
      "Model Family:                Gaussian   Df Model:                            4\n",
      "Link Function:               identity   Scale:                        0.034703\n",
      "Method:                          IRLS   Log-Likelihood:                 787.08\n",
      "Date:                Thu, 19 Jan 2023   Deviance:                       103.94\n",
      "Time:                        13:01:57   Pearson chi2:                     104.\n",
      "No. Iterations:                     3   Pseudo R-squ. (CS):             0.9103\n",
      "Covariance Type:            nonrobust                                         \n",
      "===========================================================================================\n",
      "                              coef    std err          z      P>|z|      [0.025      0.975]\n",
      "-------------------------------------------------------------------------------------------\n",
      "Intercept                   0.2933      0.010     30.650      0.000       0.275       0.312\n",
      "area1_sales                 0.8262      0.018     47.084      0.000       0.792       0.861\n",
      "area2_sales                 0.7267      0.015     47.083      0.000       0.696       0.757\n",
      "area3_sales                 1.3562      0.063     21.651      0.000       1.233       1.479\n",
      "area1_sales:area3_sales     1.0054      0.139      7.212      0.000       0.732       1.279\n",
      "===========================================================================================\n"
     ]
    }
   ],
   "source": [
    "# Linear regression model with interaction between x1 and x3\n",
    "sales_model_interaction13 = smf.glm(formula='y ~ area1_sales + area2_sales + area3_sales + area1_sales:area3_sales', data=df)\n",
    "\n",
    "result13 = sales_model_interaction13.fit()\n",
    "print(result13.summary())\n",
    "\n",
    "# The coefficient of interaction term area1_sales:area3_sales is not significant."
   ]
  },
  {
   "cell_type": "code",
   "execution_count": 50,
   "id": "cc34dfc9",
   "metadata": {},
   "outputs": [
    {
     "name": "stdout",
     "output_type": "stream",
     "text": [
      "                 Generalized Linear Model Regression Results                  \n",
      "==============================================================================\n",
      "Dep. Variable:                      y   No. Observations:                 3000\n",
      "Model:                            GLM   Df Residuals:                     2995\n",
      "Model Family:                Gaussian   Df Model:                            4\n",
      "Link Function:               identity   Scale:                        0.035009\n",
      "Method:                          IRLS   Log-Likelihood:                 773.92\n",
      "Date:                Thu, 19 Jan 2023   Deviance:                       104.85\n",
      "Time:                        13:02:34   Pearson chi2:                     105.\n",
      "No. Iterations:                     3   Pseudo R-squ. (CS):             0.9076\n",
      "Covariance Type:            nonrobust                                         \n",
      "===========================================================================================\n",
      "                              coef    std err          z      P>|z|      [0.025      0.975]\n",
      "-------------------------------------------------------------------------------------------\n",
      "Intercept                   0.2643      0.008     31.216      0.000       0.248       0.281\n",
      "area1_sales                 0.9106      0.013     72.230      0.000       0.886       0.935\n",
      "area2_sales                 0.7033      0.018     39.791      0.000       0.669       0.738\n",
      "area3_sales                 1.6574      0.040     41.362      0.000       1.579       1.736\n",
      "area2_sales:area3_sales     1.7149      0.340      5.040      0.000       1.048       2.382\n",
      "===========================================================================================\n"
     ]
    }
   ],
   "source": [
    "# Linear regression model with interaction between x2 and x3\n",
    "sales_model_interaction23 = smf.glm(formula='y ~ area1_sales + area2_sales + area3_sales + area2_sales:area3_sales', data=df)\n",
    "\n",
    "result23 = sales_model_interaction23.fit()\n",
    "print(result23.summary())\n",
    "\n",
    "# The coefficient of interaction term area2_sales:area3_sales is not significant."
   ]
  },
  {
   "cell_type": "markdown",
   "id": "29cb23f1",
   "metadata": {},
   "source": [
    "#### Therefore, there are effects of interactions between area1_sales and area2_sales. \n",
    "\n",
    "#### The linear regression model is: \n",
    "#### Total_sales = 0.2698 + 0.8889 * area1_sales + 0.6912 * area2_sales + 1.7027 * area3_sales + 0.4149 * (area1_sales:area2_sales)"
   ]
  },
  {
   "cell_type": "code",
   "execution_count": null,
   "id": "42d1dca1",
   "metadata": {},
   "outputs": [],
   "source": []
  },
  {
   "cell_type": "markdown",
   "id": "f7c9452e",
   "metadata": {},
   "source": [
    "### * Predict total_sales with Decision Trees (additional exploration)"
   ]
  },
  {
   "cell_type": "code",
   "execution_count": 59,
   "id": "31858321",
   "metadata": {},
   "outputs": [
    {
     "name": "stdout",
     "output_type": "stream",
     "text": [
      "[0.62594017 0.99340206 0.62594017 1.05462963 0.62594017 1.13414634\n",
      " 0.75555556 0.62594017 1.66       0.62594017 0.62594017 1.59222222\n",
      " 1.13414634 0.8575     1.06081081 1.05462963 1.21702703 1.13159091\n",
      " 0.70447552 0.62594017 1.66       1.40352941 1.13159091 0.62594017\n",
      " 0.95693878 0.62594017 0.62594017 1.05462963 1.40352941 1.33444444\n",
      " 0.90385417 0.96666667 0.99340206 0.7485     1.38197183 0.8575\n",
      " 1.13159091 1.21702703 1.3904     1.05462963 1.38197183 1.59222222\n",
      " 1.21702703 0.99340206 0.70447552 0.62594017 0.62594017 1.597\n",
      " 0.62594017 0.62594017 0.7485     0.62594017 1.515      0.62594017\n",
      " 0.96666667 0.62594017 0.62594017 1.33222222 0.70447552 1.13414634\n",
      " 1.38197183 1.05462963 1.13414634 1.33444444 1.38197183 0.8575\n",
      " 0.75555556 0.90385417 0.8575     1.29923077 0.8575     0.62594017\n",
      " 0.62594017 0.70447552 1.66       1.13414634 0.62594017 0.62594017\n",
      " 0.7485     0.62594017 0.70447552 1.05462963 1.33444444 0.7485\n",
      " 0.70447552 1.3904     0.62594017 1.05462963 0.70447552 0.70447552\n",
      " 1.40352941 0.8575     0.62594017 1.05462963 1.06081081 1.29923077\n",
      " 0.62594017 0.62594017 1.38197183 0.62594017 0.62594017 1.40352941\n",
      " 1.05462963 0.70447552 0.7485     0.70447552 0.70447552 1.515\n",
      " 1.40352941 0.62594017 0.62594017 1.05462963 0.62594017 0.7485\n",
      " 1.30205882 0.8575     1.54625    1.29923077 0.62594017 0.8575\n",
      " 0.62594017 1.05462963 1.05462963 0.62594017 0.90385417 0.62594017\n",
      " 0.7485     0.90385417 1.13888889 0.99340206 0.62594017 1.06081081\n",
      " 0.62594017 0.62594017 1.05462963 1.05462963 1.38197183 0.70447552\n",
      " 0.90385417 0.62594017 0.62594017 1.05462963 0.62594017 0.62594017\n",
      " 0.70447552 1.59222222 0.62594017 0.62594017 0.70447552 1.40352941\n",
      " 0.62594017 0.7485     1.05462963 1.06081081 1.30205882 0.70447552\n",
      " 1.40352941 0.62594017 0.62594017 0.62594017 0.8575     0.75555556\n",
      " 1.515      0.95693878 0.7485     0.62594017 0.90385417 1.06081081\n",
      " 0.62594017 0.7485     0.62594017 1.06081081 1.39941176 1.66\n",
      " 0.62594017 0.8575     0.62594017 1.06081081 0.90385417 0.62594017\n",
      " 1.38197183 0.62594017 0.8575     0.62594017 1.38197183 1.54625\n",
      " 1.597      1.13159091 0.8575     1.06081081 0.90385417 0.7485\n",
      " 0.62594017 1.05462963 1.66       0.62594017 1.13159091 0.62594017\n",
      " 0.95693878 1.13414634 0.70447552 0.62594017 1.38197183 0.62594017\n",
      " 0.62594017 1.05462963 0.62594017 0.70447552 1.05462963 0.70447552\n",
      " 1.13159091 0.7485     0.62594017 0.75555556 1.13414634 1.13414634\n",
      " 1.13414634 1.66       0.8575     0.62594017 0.62594017 0.8575\n",
      " 0.99340206 0.62594017 0.90385417 1.13414634 1.40352941 1.06081081\n",
      " 0.70447552 1.3904     0.8575     0.62594017 0.62594017 1.38197183\n",
      " 1.05462963 1.05462963 1.3904     0.62594017 0.7485     1.13414634\n",
      " 1.13159091 1.05462963 0.70447552 0.62594017 1.55884615 1.38197183\n",
      " 0.75555556 1.38197183 1.13414634 0.62594017 0.90385417 0.75555556\n",
      " 1.54625    0.90385417 0.62594017 0.62594017 0.8575     0.62594017\n",
      " 0.75555556 0.70447552 1.39941176 1.06081081 1.21702703 0.8575\n",
      " 1.30205882 0.62594017 0.62594017 0.62594017 0.62594017 1.39941176\n",
      " 0.70447552 0.62594017 0.7485     1.30205882 1.13414634 0.99340206\n",
      " 0.62594017 0.62594017 0.99340206 1.38197183 0.8575     1.33444444\n",
      " 1.40428571 0.95693878 1.39941176 0.62594017 1.40352941 0.62594017\n",
      " 1.515      1.39941176 0.62594017 0.62594017 0.7485     1.05462963\n",
      " 0.70447552 0.70447552 0.7485     0.62594017 0.62594017 1.05462963\n",
      " 1.13888889 0.75555556 1.59222222 0.62594017 0.62594017 1.39941176\n",
      " 0.62594017 0.96666667 0.7485     0.95693878 1.05462963 0.70447552\n",
      " 1.38197183 1.06081081 0.62594017 0.62594017 1.13414634 0.62594017\n",
      " 0.62594017 0.8575     0.90385417 0.99340206 0.70447552 0.62594017\n",
      " 0.99340206 0.62594017 1.52173913 0.62594017 0.62594017 0.7485\n",
      " 0.90385417 0.90385417 0.62594017 1.39941176 1.40428571 0.62594017\n",
      " 0.70447552 0.90385417 0.62594017 0.7485     0.62594017 1.55884615\n",
      " 0.8575     1.06081081 1.33444444 0.90385417 0.62594017 1.30205882\n",
      " 0.75555556 1.05462963 0.99340206 0.75555556 1.40352941 1.06081081\n",
      " 0.62594017 0.95693878 0.62594017 0.7485     0.70447552 0.90385417\n",
      " 0.62594017 0.62594017 0.75555556 1.13414634 1.05462963 0.95693878\n",
      " 0.7485     0.62594017 0.62594017 0.62594017 1.05462963 1.05462963\n",
      " 0.8575     0.90385417 1.38197183 0.62594017 0.90385417 0.7485\n",
      " 1.52173913 0.8575     1.33444444 0.62594017 1.13414634 1.66\n",
      " 0.99340206 0.62594017 0.8575     1.33222222 0.95693878 0.90385417\n",
      " 0.62594017 0.70447552 0.99340206 1.39941176 0.62594017 0.7485\n",
      " 1.52173913 1.66       1.13414634 0.62594017 1.21702703 0.62594017\n",
      " 0.70447552 0.62594017 0.62594017 0.62594017 1.55884615 0.7485\n",
      " 1.13159091 0.62594017 0.70447552 1.66       0.90385417 1.66\n",
      " 0.90385417 0.62594017 0.90385417 1.38197183 1.39941176 1.13414634\n",
      " 1.13414634 0.62594017 0.8575     0.70447552 0.99340206 0.95693878\n",
      " 0.8575     0.75555556 1.54625    1.30205882 0.62594017 1.3904\n",
      " 0.62594017 0.8575     0.8575     0.90385417 0.70447552 0.70447552\n",
      " 0.62594017 0.70447552 1.13888889 0.70447552 0.70447552 0.8575\n",
      " 0.62594017 1.38197183 0.62594017 0.62594017 1.13888889 0.62594017\n",
      " 0.62594017 0.62594017 0.62594017 0.8575     0.62594017 1.597\n",
      " 0.99340206 1.515      1.13888889 1.13414634 0.7485     1.13414634\n",
      " 1.54625    1.597      0.95693878 0.8575     0.99340206 1.39941176\n",
      " 1.13888889 0.62594017 0.99340206 1.06081081 0.62594017 1.515\n",
      " 0.62594017 0.62594017 0.62594017 0.62594017 0.99340206 1.66\n",
      " 0.62594017 1.54625    0.62594017 0.62594017 0.62594017 0.62594017\n",
      " 0.70447552 0.7485     1.55884615 0.62594017 1.13414634 0.8575\n",
      " 0.62594017 0.7485     0.62594017 1.05462963 1.13414634 0.62594017\n",
      " 1.38197183 0.62594017 0.70447552 1.38197183 1.13414634 0.62594017\n",
      " 1.66       1.06081081 0.62594017 0.70447552 1.06081081 1.21702703\n",
      " 0.62594017 1.40352941 0.99340206 0.62594017 1.13414634 0.62594017\n",
      " 0.8575     1.05462963 1.13159091 0.62594017 1.13414634 0.75555556\n",
      " 0.75555556 1.21702703 0.96666667 0.70447552 0.62594017 0.7485\n",
      " 0.8575     0.62594017 0.62594017 1.05462963 0.90385417 0.62594017\n",
      " 1.13159091 0.62594017 0.62594017 0.70447552 0.62594017 0.62594017\n",
      " 1.06081081 0.62594017 1.13414634 0.62594017 1.30205882 1.05462963\n",
      " 1.66       0.62594017 0.62594017 1.40428571 0.95693878 1.06081081\n",
      " 1.13414634 0.8575     1.55884615 0.62594017 1.38197183 1.515\n",
      " 1.40352941 1.30205882 0.7485     0.62594017 0.62594017 1.13888889\n",
      " 1.21702703 0.7485     0.95693878 1.13414634 0.99340206 0.62594017\n",
      " 0.7485     1.515      0.70447552 1.13414634 1.06081081 1.66\n",
      " 1.3904     0.62594017 1.13414634 1.59222222 1.515      1.38197183\n",
      " 1.06081081 0.70447552 1.67384615 0.62594017 0.62594017 0.62594017\n",
      " 1.52173913 0.70447552 1.13159091 0.7485     1.06081081 0.90385417\n",
      " 0.62594017 1.13888889 0.70447552 1.05462963 0.7485     1.39941176\n",
      " 0.70447552 1.05462963 1.40352941 0.90385417 0.70447552 1.05462963\n",
      " 0.8575     0.70447552 0.7485     0.70447552 0.62594017 1.21702703\n",
      " 0.75555556 0.99340206 0.90385417 0.62594017 0.62594017 0.8575\n",
      " 0.70447552 1.3904     0.62594017 1.13159091 0.70447552 0.70447552\n",
      " 0.95693878 1.06081081 1.13414634 0.95693878 0.8575     0.99340206\n",
      " 1.05462963 0.62594017 0.62594017 0.62594017 0.62594017 1.38197183\n",
      " 0.62594017 1.21702703 0.62594017 0.7485     0.75555556 0.90385417\n",
      " 0.90385417 0.62594017 1.05462963 0.62594017 0.62594017 1.59222222\n",
      " 1.3904     1.33444444 0.95693878 1.52173913 0.7485     0.62594017\n",
      " 0.62594017 0.70447552 0.95693878 0.62594017 0.99340206 0.62594017\n",
      " 1.33444444 0.62594017 0.62594017 1.38197183 1.52173913 0.70447552\n",
      " 0.62594017 1.52173913 0.62594017 0.62594017 0.70447552 1.06081081\n",
      " 1.05462963 0.62594017 0.7485     0.62594017 0.99340206 0.95693878\n",
      " 0.62594017 1.05462963 0.62594017 0.62594017 0.62594017 1.13414634\n",
      " 1.05462963 0.70447552 0.8575     1.06081081 0.62594017 0.99340206\n",
      " 0.62594017 0.7485     1.06081081 0.62594017 0.62594017 0.62594017\n",
      " 0.62594017 0.7485     0.8575     0.99340206 1.66       1.06081081\n",
      " 1.13159091 0.62594017 1.55884615 0.62594017 1.30205882 1.13888889\n",
      " 1.515      0.62594017 0.70447552 1.13414634 0.99340206 0.7485\n",
      " 0.62594017 1.33222222 0.70447552 1.21702703 1.66       0.90385417\n",
      " 0.62594017 0.62594017 0.62594017 1.05462963 1.33444444 0.90385417\n",
      " 1.38197183 0.90385417 0.62594017 1.54625    0.62594017 0.70447552\n",
      " 1.515      0.62594017 0.99340206 0.62594017 1.66       1.38197183\n",
      " 1.05462963 0.62594017 1.33444444 0.8575     1.38197183 0.90385417\n",
      " 0.62594017 1.33222222 0.62594017 0.62594017 0.7485     1.66      ]\n"
     ]
    }
   ],
   "source": [
    "from sklearn.tree import DecisionTreeRegressor\n",
    "\n",
    "model = DecisionTreeRegressor(max_depth=5).fit(x_train,y_train)\n",
    "predict = model.predict(x_test) #Predictions on Testing data\n",
    "print(predict)"
   ]
  },
  {
   "cell_type": "markdown",
   "id": "0bd3f054",
   "metadata": {},
   "source": [
    "### Question 2: Customer.csv"
   ]
  },
  {
   "cell_type": "markdown",
   "id": "2cb836d5",
   "metadata": {},
   "source": [
    "### Logistic regression model"
   ]
  },
  {
   "cell_type": "code",
   "execution_count": 2,
   "id": "278ec003",
   "metadata": {},
   "outputs": [],
   "source": [
    "import pandas as pd\n",
    "from sklearn import datasets\n",
    "import statsmodels.formula.api as smf \n",
    "import statsmodels.api as sm"
   ]
  },
  {
   "cell_type": "code",
   "execution_count": 3,
   "id": "a5e398e8",
   "metadata": {},
   "outputs": [
    {
     "data": {
      "text/html": [
       "<div>\n",
       "<style scoped>\n",
       "    .dataframe tbody tr th:only-of-type {\n",
       "        vertical-align: middle;\n",
       "    }\n",
       "\n",
       "    .dataframe tbody tr th {\n",
       "        vertical-align: top;\n",
       "    }\n",
       "\n",
       "    .dataframe thead th {\n",
       "        text-align: right;\n",
       "    }\n",
       "</style>\n",
       "<table border=\"1\" class=\"dataframe\">\n",
       "  <thead>\n",
       "    <tr style=\"text-align: right;\">\n",
       "      <th></th>\n",
       "      <th>User ID</th>\n",
       "      <th>Gender</th>\n",
       "      <th>Age</th>\n",
       "      <th>EstimatedSalary</th>\n",
       "      <th>Purchased</th>\n",
       "    </tr>\n",
       "  </thead>\n",
       "  <tbody>\n",
       "    <tr>\n",
       "      <th>0</th>\n",
       "      <td>15624510</td>\n",
       "      <td>Male</td>\n",
       "      <td>19</td>\n",
       "      <td>19000</td>\n",
       "      <td>0</td>\n",
       "    </tr>\n",
       "    <tr>\n",
       "      <th>1</th>\n",
       "      <td>15810944</td>\n",
       "      <td>Male</td>\n",
       "      <td>35</td>\n",
       "      <td>20000</td>\n",
       "      <td>0</td>\n",
       "    </tr>\n",
       "    <tr>\n",
       "      <th>2</th>\n",
       "      <td>15668575</td>\n",
       "      <td>Female</td>\n",
       "      <td>26</td>\n",
       "      <td>43000</td>\n",
       "      <td>0</td>\n",
       "    </tr>\n",
       "    <tr>\n",
       "      <th>3</th>\n",
       "      <td>15603246</td>\n",
       "      <td>Female</td>\n",
       "      <td>27</td>\n",
       "      <td>57000</td>\n",
       "      <td>0</td>\n",
       "    </tr>\n",
       "    <tr>\n",
       "      <th>4</th>\n",
       "      <td>15804002</td>\n",
       "      <td>Male</td>\n",
       "      <td>19</td>\n",
       "      <td>76000</td>\n",
       "      <td>0</td>\n",
       "    </tr>\n",
       "  </tbody>\n",
       "</table>\n",
       "</div>"
      ],
      "text/plain": [
       "    User ID  Gender  Age  EstimatedSalary  Purchased\n",
       "0  15624510    Male   19            19000          0\n",
       "1  15810944    Male   35            20000          0\n",
       "2  15668575  Female   26            43000          0\n",
       "3  15603246  Female   27            57000          0\n",
       "4  15804002    Male   19            76000          0"
      ]
     },
     "execution_count": 3,
     "metadata": {},
     "output_type": "execute_result"
    }
   ],
   "source": [
    "customer = pd.read_csv(\"/Users/Administratoor/Documents/Winter/BAX 452 - Machine Learning/Assignment 2/customer.csv\")\n",
    "customer.head()"
   ]
  },
  {
   "cell_type": "code",
   "execution_count": 4,
   "id": "672cfd3c",
   "metadata": {},
   "outputs": [],
   "source": [
    "# Categorical variables: \"Gender\"\n",
    "customer['gender_class']=np.where(customer['Gender'] =='Male', '1', customer['Gender'])"
   ]
  },
  {
   "cell_type": "code",
   "execution_count": 5,
   "id": "198b04c2",
   "metadata": {},
   "outputs": [
    {
     "data": {
      "text/html": [
       "<div>\n",
       "<style scoped>\n",
       "    .dataframe tbody tr th:only-of-type {\n",
       "        vertical-align: middle;\n",
       "    }\n",
       "\n",
       "    .dataframe tbody tr th {\n",
       "        vertical-align: top;\n",
       "    }\n",
       "\n",
       "    .dataframe thead th {\n",
       "        text-align: right;\n",
       "    }\n",
       "</style>\n",
       "<table border=\"1\" class=\"dataframe\">\n",
       "  <thead>\n",
       "    <tr style=\"text-align: right;\">\n",
       "      <th></th>\n",
       "      <th>User ID</th>\n",
       "      <th>Gender</th>\n",
       "      <th>Age</th>\n",
       "      <th>EstimatedSalary</th>\n",
       "      <th>Purchased</th>\n",
       "      <th>gender_class</th>\n",
       "    </tr>\n",
       "  </thead>\n",
       "  <tbody>\n",
       "    <tr>\n",
       "      <th>0</th>\n",
       "      <td>15624510</td>\n",
       "      <td>Male</td>\n",
       "      <td>19</td>\n",
       "      <td>19000</td>\n",
       "      <td>0</td>\n",
       "      <td>1</td>\n",
       "    </tr>\n",
       "    <tr>\n",
       "      <th>1</th>\n",
       "      <td>15810944</td>\n",
       "      <td>Male</td>\n",
       "      <td>35</td>\n",
       "      <td>20000</td>\n",
       "      <td>0</td>\n",
       "      <td>1</td>\n",
       "    </tr>\n",
       "    <tr>\n",
       "      <th>2</th>\n",
       "      <td>15668575</td>\n",
       "      <td>Female</td>\n",
       "      <td>26</td>\n",
       "      <td>43000</td>\n",
       "      <td>0</td>\n",
       "      <td>0</td>\n",
       "    </tr>\n",
       "    <tr>\n",
       "      <th>3</th>\n",
       "      <td>15603246</td>\n",
       "      <td>Female</td>\n",
       "      <td>27</td>\n",
       "      <td>57000</td>\n",
       "      <td>0</td>\n",
       "      <td>0</td>\n",
       "    </tr>\n",
       "    <tr>\n",
       "      <th>4</th>\n",
       "      <td>15804002</td>\n",
       "      <td>Male</td>\n",
       "      <td>19</td>\n",
       "      <td>76000</td>\n",
       "      <td>0</td>\n",
       "      <td>1</td>\n",
       "    </tr>\n",
       "    <tr>\n",
       "      <th>...</th>\n",
       "      <td>...</td>\n",
       "      <td>...</td>\n",
       "      <td>...</td>\n",
       "      <td>...</td>\n",
       "      <td>...</td>\n",
       "      <td>...</td>\n",
       "    </tr>\n",
       "    <tr>\n",
       "      <th>395</th>\n",
       "      <td>15691863</td>\n",
       "      <td>Female</td>\n",
       "      <td>46</td>\n",
       "      <td>41000</td>\n",
       "      <td>1</td>\n",
       "      <td>0</td>\n",
       "    </tr>\n",
       "    <tr>\n",
       "      <th>396</th>\n",
       "      <td>15706071</td>\n",
       "      <td>Male</td>\n",
       "      <td>51</td>\n",
       "      <td>23000</td>\n",
       "      <td>1</td>\n",
       "      <td>1</td>\n",
       "    </tr>\n",
       "    <tr>\n",
       "      <th>397</th>\n",
       "      <td>15654296</td>\n",
       "      <td>Female</td>\n",
       "      <td>50</td>\n",
       "      <td>20000</td>\n",
       "      <td>1</td>\n",
       "      <td>0</td>\n",
       "    </tr>\n",
       "    <tr>\n",
       "      <th>398</th>\n",
       "      <td>15755018</td>\n",
       "      <td>Male</td>\n",
       "      <td>36</td>\n",
       "      <td>33000</td>\n",
       "      <td>0</td>\n",
       "      <td>1</td>\n",
       "    </tr>\n",
       "    <tr>\n",
       "      <th>399</th>\n",
       "      <td>15594041</td>\n",
       "      <td>Female</td>\n",
       "      <td>49</td>\n",
       "      <td>36000</td>\n",
       "      <td>1</td>\n",
       "      <td>0</td>\n",
       "    </tr>\n",
       "  </tbody>\n",
       "</table>\n",
       "<p>400 rows × 6 columns</p>\n",
       "</div>"
      ],
      "text/plain": [
       "      User ID  Gender  Age  EstimatedSalary  Purchased gender_class\n",
       "0    15624510    Male   19            19000          0            1\n",
       "1    15810944    Male   35            20000          0            1\n",
       "2    15668575  Female   26            43000          0            0\n",
       "3    15603246  Female   27            57000          0            0\n",
       "4    15804002    Male   19            76000          0            1\n",
       "..        ...     ...  ...              ...        ...          ...\n",
       "395  15691863  Female   46            41000          1            0\n",
       "396  15706071    Male   51            23000          1            1\n",
       "397  15654296  Female   50            20000          1            0\n",
       "398  15755018    Male   36            33000          0            1\n",
       "399  15594041  Female   49            36000          1            0\n",
       "\n",
       "[400 rows x 6 columns]"
      ]
     },
     "execution_count": 5,
     "metadata": {},
     "output_type": "execute_result"
    }
   ],
   "source": [
    "customer['gender_class']=np.where(customer['gender_class'] =='Female', '0', customer['gender_class'])\n",
    "customer"
   ]
  },
  {
   "cell_type": "code",
   "execution_count": 6,
   "id": "0565457b",
   "metadata": {},
   "outputs": [
    {
     "data": {
      "text/html": [
       "<div>\n",
       "<style scoped>\n",
       "    .dataframe tbody tr th:only-of-type {\n",
       "        vertical-align: middle;\n",
       "    }\n",
       "\n",
       "    .dataframe tbody tr th {\n",
       "        vertical-align: top;\n",
       "    }\n",
       "\n",
       "    .dataframe thead th {\n",
       "        text-align: right;\n",
       "    }\n",
       "</style>\n",
       "<table border=\"1\" class=\"dataframe\">\n",
       "  <thead>\n",
       "    <tr style=\"text-align: right;\">\n",
       "      <th></th>\n",
       "      <th>Age</th>\n",
       "      <th>EstimatedSalary</th>\n",
       "      <th>gender_class</th>\n",
       "      <th>Purchased</th>\n",
       "    </tr>\n",
       "  </thead>\n",
       "  <tbody>\n",
       "    <tr>\n",
       "      <th>0</th>\n",
       "      <td>19</td>\n",
       "      <td>19000</td>\n",
       "      <td>1</td>\n",
       "      <td>0</td>\n",
       "    </tr>\n",
       "    <tr>\n",
       "      <th>1</th>\n",
       "      <td>35</td>\n",
       "      <td>20000</td>\n",
       "      <td>1</td>\n",
       "      <td>0</td>\n",
       "    </tr>\n",
       "    <tr>\n",
       "      <th>2</th>\n",
       "      <td>26</td>\n",
       "      <td>43000</td>\n",
       "      <td>0</td>\n",
       "      <td>0</td>\n",
       "    </tr>\n",
       "    <tr>\n",
       "      <th>3</th>\n",
       "      <td>27</td>\n",
       "      <td>57000</td>\n",
       "      <td>0</td>\n",
       "      <td>0</td>\n",
       "    </tr>\n",
       "    <tr>\n",
       "      <th>4</th>\n",
       "      <td>19</td>\n",
       "      <td>76000</td>\n",
       "      <td>1</td>\n",
       "      <td>0</td>\n",
       "    </tr>\n",
       "    <tr>\n",
       "      <th>...</th>\n",
       "      <td>...</td>\n",
       "      <td>...</td>\n",
       "      <td>...</td>\n",
       "      <td>...</td>\n",
       "    </tr>\n",
       "    <tr>\n",
       "      <th>395</th>\n",
       "      <td>46</td>\n",
       "      <td>41000</td>\n",
       "      <td>0</td>\n",
       "      <td>1</td>\n",
       "    </tr>\n",
       "    <tr>\n",
       "      <th>396</th>\n",
       "      <td>51</td>\n",
       "      <td>23000</td>\n",
       "      <td>1</td>\n",
       "      <td>1</td>\n",
       "    </tr>\n",
       "    <tr>\n",
       "      <th>397</th>\n",
       "      <td>50</td>\n",
       "      <td>20000</td>\n",
       "      <td>0</td>\n",
       "      <td>1</td>\n",
       "    </tr>\n",
       "    <tr>\n",
       "      <th>398</th>\n",
       "      <td>36</td>\n",
       "      <td>33000</td>\n",
       "      <td>1</td>\n",
       "      <td>0</td>\n",
       "    </tr>\n",
       "    <tr>\n",
       "      <th>399</th>\n",
       "      <td>49</td>\n",
       "      <td>36000</td>\n",
       "      <td>0</td>\n",
       "      <td>1</td>\n",
       "    </tr>\n",
       "  </tbody>\n",
       "</table>\n",
       "<p>400 rows × 4 columns</p>\n",
       "</div>"
      ],
      "text/plain": [
       "     Age  EstimatedSalary gender_class  Purchased\n",
       "0     19            19000            1          0\n",
       "1     35            20000            1          0\n",
       "2     26            43000            0          0\n",
       "3     27            57000            0          0\n",
       "4     19            76000            1          0\n",
       "..   ...              ...          ...        ...\n",
       "395   46            41000            0          1\n",
       "396   51            23000            1          1\n",
       "397   50            20000            0          1\n",
       "398   36            33000            1          0\n",
       "399   49            36000            0          1\n",
       "\n",
       "[400 rows x 4 columns]"
      ]
     },
     "execution_count": 6,
     "metadata": {},
     "output_type": "execute_result"
    }
   ],
   "source": [
    "customer = customer[['Age','EstimatedSalary','gender_class','Purchased']]\n",
    "customer"
   ]
  },
  {
   "cell_type": "markdown",
   "id": "47362fb5",
   "metadata": {},
   "source": [
    "### Logistic regression models trimmed over features in the data"
   ]
  },
  {
   "cell_type": "code",
   "execution_count": 7,
   "id": "164e97b9",
   "metadata": {},
   "outputs": [],
   "source": [
    "import sklearn\n",
    "from sklearn.feature_selection import RFE\n",
    "from sklearn.linear_model import LogisticRegression\n",
    "\n",
    "# Recursive Feature Elimination\n",
    "X = customer[['Age','EstimatedSalary','gender_class']]\n",
    "y = customer[['Purchased']]"
   ]
  },
  {
   "cell_type": "code",
   "execution_count": 20,
   "id": "4a4b3d10",
   "metadata": {},
   "outputs": [
    {
     "data": {
      "text/html": [
       "<div>\n",
       "<style scoped>\n",
       "    .dataframe tbody tr th:only-of-type {\n",
       "        vertical-align: middle;\n",
       "    }\n",
       "\n",
       "    .dataframe tbody tr th {\n",
       "        vertical-align: top;\n",
       "    }\n",
       "\n",
       "    .dataframe thead th {\n",
       "        text-align: right;\n",
       "    }\n",
       "</style>\n",
       "<table border=\"1\" class=\"dataframe\">\n",
       "  <thead>\n",
       "    <tr style=\"text-align: right;\">\n",
       "      <th></th>\n",
       "      <th>Age</th>\n",
       "      <th>EstimatedSalary</th>\n",
       "      <th>gender_class</th>\n",
       "    </tr>\n",
       "  </thead>\n",
       "  <tbody>\n",
       "    <tr>\n",
       "      <th>0</th>\n",
       "      <td>19</td>\n",
       "      <td>19000</td>\n",
       "      <td>1</td>\n",
       "    </tr>\n",
       "    <tr>\n",
       "      <th>1</th>\n",
       "      <td>35</td>\n",
       "      <td>20000</td>\n",
       "      <td>1</td>\n",
       "    </tr>\n",
       "    <tr>\n",
       "      <th>2</th>\n",
       "      <td>26</td>\n",
       "      <td>43000</td>\n",
       "      <td>0</td>\n",
       "    </tr>\n",
       "    <tr>\n",
       "      <th>3</th>\n",
       "      <td>27</td>\n",
       "      <td>57000</td>\n",
       "      <td>0</td>\n",
       "    </tr>\n",
       "    <tr>\n",
       "      <th>4</th>\n",
       "      <td>19</td>\n",
       "      <td>76000</td>\n",
       "      <td>1</td>\n",
       "    </tr>\n",
       "    <tr>\n",
       "      <th>...</th>\n",
       "      <td>...</td>\n",
       "      <td>...</td>\n",
       "      <td>...</td>\n",
       "    </tr>\n",
       "    <tr>\n",
       "      <th>395</th>\n",
       "      <td>46</td>\n",
       "      <td>41000</td>\n",
       "      <td>0</td>\n",
       "    </tr>\n",
       "    <tr>\n",
       "      <th>396</th>\n",
       "      <td>51</td>\n",
       "      <td>23000</td>\n",
       "      <td>1</td>\n",
       "    </tr>\n",
       "    <tr>\n",
       "      <th>397</th>\n",
       "      <td>50</td>\n",
       "      <td>20000</td>\n",
       "      <td>0</td>\n",
       "    </tr>\n",
       "    <tr>\n",
       "      <th>398</th>\n",
       "      <td>36</td>\n",
       "      <td>33000</td>\n",
       "      <td>1</td>\n",
       "    </tr>\n",
       "    <tr>\n",
       "      <th>399</th>\n",
       "      <td>49</td>\n",
       "      <td>36000</td>\n",
       "      <td>0</td>\n",
       "    </tr>\n",
       "  </tbody>\n",
       "</table>\n",
       "<p>400 rows × 3 columns</p>\n",
       "</div>"
      ],
      "text/plain": [
       "     Age  EstimatedSalary gender_class\n",
       "0     19            19000            1\n",
       "1     35            20000            1\n",
       "2     26            43000            0\n",
       "3     27            57000            0\n",
       "4     19            76000            1\n",
       "..   ...              ...          ...\n",
       "395   46            41000            0\n",
       "396   51            23000            1\n",
       "397   50            20000            0\n",
       "398   36            33000            1\n",
       "399   49            36000            0\n",
       "\n",
       "[400 rows x 3 columns]"
      ]
     },
     "execution_count": 20,
     "metadata": {},
     "output_type": "execute_result"
    }
   ],
   "source": [
    "X"
   ]
  },
  {
   "cell_type": "code",
   "execution_count": 21,
   "id": "74ec3b10",
   "metadata": {},
   "outputs": [
    {
     "data": {
      "text/html": [
       "<div>\n",
       "<style scoped>\n",
       "    .dataframe tbody tr th:only-of-type {\n",
       "        vertical-align: middle;\n",
       "    }\n",
       "\n",
       "    .dataframe tbody tr th {\n",
       "        vertical-align: top;\n",
       "    }\n",
       "\n",
       "    .dataframe thead th {\n",
       "        text-align: right;\n",
       "    }\n",
       "</style>\n",
       "<table border=\"1\" class=\"dataframe\">\n",
       "  <thead>\n",
       "    <tr style=\"text-align: right;\">\n",
       "      <th></th>\n",
       "      <th>Purchased</th>\n",
       "    </tr>\n",
       "  </thead>\n",
       "  <tbody>\n",
       "    <tr>\n",
       "      <th>0</th>\n",
       "      <td>0</td>\n",
       "    </tr>\n",
       "    <tr>\n",
       "      <th>1</th>\n",
       "      <td>0</td>\n",
       "    </tr>\n",
       "    <tr>\n",
       "      <th>2</th>\n",
       "      <td>0</td>\n",
       "    </tr>\n",
       "    <tr>\n",
       "      <th>3</th>\n",
       "      <td>0</td>\n",
       "    </tr>\n",
       "    <tr>\n",
       "      <th>4</th>\n",
       "      <td>0</td>\n",
       "    </tr>\n",
       "    <tr>\n",
       "      <th>...</th>\n",
       "      <td>...</td>\n",
       "    </tr>\n",
       "    <tr>\n",
       "      <th>395</th>\n",
       "      <td>1</td>\n",
       "    </tr>\n",
       "    <tr>\n",
       "      <th>396</th>\n",
       "      <td>1</td>\n",
       "    </tr>\n",
       "    <tr>\n",
       "      <th>397</th>\n",
       "      <td>1</td>\n",
       "    </tr>\n",
       "    <tr>\n",
       "      <th>398</th>\n",
       "      <td>0</td>\n",
       "    </tr>\n",
       "    <tr>\n",
       "      <th>399</th>\n",
       "      <td>1</td>\n",
       "    </tr>\n",
       "  </tbody>\n",
       "</table>\n",
       "<p>400 rows × 1 columns</p>\n",
       "</div>"
      ],
      "text/plain": [
       "     Purchased\n",
       "0            0\n",
       "1            0\n",
       "2            0\n",
       "3            0\n",
       "4            0\n",
       "..         ...\n",
       "395          1\n",
       "396          1\n",
       "397          1\n",
       "398          0\n",
       "399          1\n",
       "\n",
       "[400 rows x 1 columns]"
      ]
     },
     "execution_count": 21,
     "metadata": {},
     "output_type": "execute_result"
    }
   ],
   "source": [
    "y"
   ]
  },
  {
   "cell_type": "code",
   "execution_count": 45,
   "id": "366403cb",
   "metadata": {},
   "outputs": [],
   "source": [
    "# Select two features:\n",
    "logreg = LogisticRegression()\n",
    "rfe = RFE(logreg, n_features_to_select= 2)\n",
    "rfe = rfe.fit(X, y.values.ravel())"
   ]
  },
  {
   "cell_type": "code",
   "execution_count": 46,
   "id": "1f0f34fe",
   "metadata": {},
   "outputs": [
    {
     "name": "stdout",
     "output_type": "stream",
     "text": [
      "[ True  True False]\n"
     ]
    }
   ],
   "source": [
    "print(rfe.support_)"
   ]
  },
  {
   "cell_type": "code",
   "execution_count": 47,
   "id": "24742087",
   "metadata": {},
   "outputs": [
    {
     "name": "stdout",
     "output_type": "stream",
     "text": [
      "[1 1 2]\n"
     ]
    }
   ],
   "source": [
    "print(rfe.ranking_)"
   ]
  },
  {
   "cell_type": "markdown",
   "id": "9c7b819c",
   "metadata": {},
   "source": [
    "The RFE has helped us select the following features: \"Age\", \"EstimatedSalary\""
   ]
  },
  {
   "cell_type": "code",
   "execution_count": 49,
   "id": "d4c9978b",
   "metadata": {},
   "outputs": [
    {
     "name": "stdout",
     "output_type": "stream",
     "text": [
      "[False  True False]\n"
     ]
    }
   ],
   "source": [
    "# Select only one feature:\n",
    "logreg = LogisticRegression()\n",
    "rfe = RFE(logreg, n_features_to_select= 1)\n",
    "rfe = rfe.fit(X, y.values.ravel())\n",
    "print(rfe.support_)"
   ]
  },
  {
   "cell_type": "markdown",
   "id": "6c73d84b",
   "metadata": {},
   "source": [
    "The RFE has helped us select feature: \"EstimatedSalary\" when we only want one explanatory varaible."
   ]
  },
  {
   "cell_type": "markdown",
   "id": "5bcf4e0f",
   "metadata": {},
   "source": [
    "### Split data into train and test subsets (Model a)"
   ]
  },
  {
   "cell_type": "code",
   "execution_count": 57,
   "id": "ecdd4a6b",
   "metadata": {},
   "outputs": [],
   "source": [
    "# Train data in terms of selecting two features\n",
    "X = customer[['Age','EstimatedSalary']]"
   ]
  },
  {
   "cell_type": "code",
   "execution_count": 58,
   "id": "b8381c10",
   "metadata": {},
   "outputs": [],
   "source": [
    "X_train , X_test , y_train , y_test = train_test_split(X, y, test_size= 0.25 , random_state=42)"
   ]
  },
  {
   "cell_type": "code",
   "execution_count": 59,
   "id": "cd75ef0f",
   "metadata": {},
   "outputs": [],
   "source": [
    "ro_scaler=RobustScaler()\n",
    "X_train=ro_scaler.fit_transform(X_train)\n",
    "X_test=ro_scaler.fit_transform(X_test)"
   ]
  },
  {
   "cell_type": "markdown",
   "id": "036f6c28",
   "metadata": {},
   "source": []
  },
  {
   "cell_type": "markdown",
   "id": "67a54b08",
   "metadata": {},
   "source": [
    "### Develop different logistic regression models (Model a)"
   ]
  },
  {
   "cell_type": "code",
   "execution_count": 60,
   "id": "1e26b263",
   "metadata": {},
   "outputs": [],
   "source": [
    "from sklearn.linear_model import LogisticRegression"
   ]
  },
  {
   "cell_type": "code",
   "execution_count": 61,
   "id": "f3ed114a",
   "metadata": {},
   "outputs": [
    {
     "name": "stdout",
     "output_type": "stream",
     "text": [
      "[[2.64670081 1.34172524]]\n"
     ]
    }
   ],
   "source": [
    "logit_model_two = LogisticRegression(random_state=0)\n",
    "result = logit_model_two.fit(X_train, y_train.values.ravel())\n",
    "print(logit_model_two.coef_)"
   ]
  },
  {
   "cell_type": "code",
   "execution_count": 62,
   "id": "4ab1c06a",
   "metadata": {},
   "outputs": [
    {
     "name": "stdout",
     "output_type": "stream",
     "text": [
      "[-1.1049615]\n"
     ]
    }
   ],
   "source": [
    "print(logit_model_two.intercept_)"
   ]
  },
  {
   "cell_type": "code",
   "execution_count": 63,
   "id": "612a9961",
   "metadata": {},
   "outputs": [
    {
     "name": "stdout",
     "output_type": "stream",
     "text": [
      "0.86\n"
     ]
    }
   ],
   "source": [
    "print(logit_model_two.score(X_test,y_test)) # Return in-sample R2\" (pseudo) "
   ]
  },
  {
   "cell_type": "markdown",
   "id": "10988ebb",
   "metadata": {},
   "source": [
    "Hence, the trimmed logistic regression model (with two features) is:\n",
    "\n",
    "Log(Prob.(Purchased)/(1-Prob.)) = -1.105 + 2.6467 * Age + 1.342 * EstimatedSalary."
   ]
  },
  {
   "cell_type": "markdown",
   "id": "9e290682",
   "metadata": {},
   "source": [
    "### Split data into train and test subsets (Model b)"
   ]
  },
  {
   "cell_type": "code",
   "execution_count": 45,
   "id": "d1140b43",
   "metadata": {},
   "outputs": [],
   "source": [
    "# Alternatively, train data in terms of selecting only one feature\n",
    "X = customer[['EstimatedSalary']]"
   ]
  },
  {
   "cell_type": "code",
   "execution_count": 46,
   "id": "50a336ed",
   "metadata": {},
   "outputs": [],
   "source": [
    "X_train , X_test , y_train , y_test = train_test_split(X, y, test_size= 0.25 , random_state=42)"
   ]
  },
  {
   "cell_type": "code",
   "execution_count": 47,
   "id": "0630174d",
   "metadata": {},
   "outputs": [],
   "source": [
    "ro_scaler=RobustScaler()\n",
    "X_train=ro_scaler.fit_transform(X_train)\n",
    "X_test=ro_scaler.fit_transform(X_test)"
   ]
  },
  {
   "cell_type": "markdown",
   "id": "02c5c695",
   "metadata": {},
   "source": [
    "### Develop different logistic regression models (Model b)"
   ]
  },
  {
   "cell_type": "code",
   "execution_count": 34,
   "id": "3674589c",
   "metadata": {},
   "outputs": [],
   "source": [
    "from sklearn.linear_model import LogisticRegression"
   ]
  },
  {
   "cell_type": "code",
   "execution_count": 48,
   "id": "5578e7cd",
   "metadata": {},
   "outputs": [
    {
     "name": "stdout",
     "output_type": "stream",
     "text": [
      "[[1.07074015]]\n"
     ]
    }
   ],
   "source": [
    "logit_model_one = LogisticRegression(random_state=0)\n",
    "result = logit_model_one.fit(X_train, y_train.values.ravel())\n",
    "print(logit_model_one.coef_)"
   ]
  },
  {
   "cell_type": "code",
   "execution_count": 49,
   "id": "cc02c864",
   "metadata": {},
   "outputs": [
    {
     "name": "stdout",
     "output_type": "stream",
     "text": [
      "[-0.66476748]\n"
     ]
    }
   ],
   "source": [
    "print(logit_model_one.intercept_)"
   ]
  },
  {
   "cell_type": "code",
   "execution_count": 50,
   "id": "5736c61d",
   "metadata": {},
   "outputs": [
    {
     "name": "stdout",
     "output_type": "stream",
     "text": [
      "0.76\n"
     ]
    }
   ],
   "source": [
    "print(logit_model_one.score(X_test,y_test)) # Return in-sample R2\" (pseudo) "
   ]
  },
  {
   "cell_type": "markdown",
   "id": "4d54cbf7",
   "metadata": {},
   "source": [
    "Hence, the trimmed logistic regression model (with only one feature) is:\n",
    "\n",
    "Log(Prob.(Purchased)/(1-Prob.)) = -0.665 + 1.071*EstimatedSalary."
   ]
  },
  {
   "cell_type": "markdown",
   "id": "a6b32a3f",
   "metadata": {},
   "source": [
    "#### By comparison, in terms of \"in-sample R2\" (pseudo), among the trained trimmed logistic regression models, Model a is more accurate than Model b in predicting whether customer will purchase the product."
   ]
  },
  {
   "cell_type": "markdown",
   "id": "7571b165",
   "metadata": {},
   "source": [
    "#### For the Logistic Regression models trained above, the best model I pick wrt to the in-sample R2 is as following:\n",
    "\n",
    "#### Log(Prob.(Purchased)/(1-Prob.))= -1.105 + 2.6467 * Age + 1.342 * EstimatedSalary.   (Model a)"
   ]
  },
  {
   "cell_type": "markdown",
   "id": "05051974",
   "metadata": {},
   "source": [
    "### Question 3: Interpretation of the above model’s coefficients"
   ]
  },
  {
   "cell_type": "code",
   "execution_count": 54,
   "id": "e9bd4084",
   "metadata": {},
   "outputs": [
    {
     "data": {
      "text/plain": [
       "14.107418728885309"
      ]
     },
     "execution_count": 54,
     "metadata": {},
     "output_type": "execute_result"
    }
   ],
   "source": [
    "import math\n",
    "math.exp(2.64670081) # Coefficient of Age var."
   ]
  },
  {
   "cell_type": "markdown",
   "id": "90bab02e",
   "metadata": {},
   "source": [
    "The coefficient of Age variable is positive, indicating a posivite relationship between the age of customer and the likelihood of purchasing the product.\n",
    "\n",
    "Also, an increase in Age of customer multiplies the odds of Purchasing by 14.1074."
   ]
  },
  {
   "cell_type": "code",
   "execution_count": 55,
   "id": "93b95184",
   "metadata": {},
   "outputs": [
    {
     "data": {
      "text/plain": [
       "3.825637958855329"
      ]
     },
     "execution_count": 55,
     "metadata": {},
     "output_type": "execute_result"
    }
   ],
   "source": [
    "math.exp(1.34172524) # Coefficient of EstimatedSalary var."
   ]
  },
  {
   "cell_type": "markdown",
   "id": "57901ebd",
   "metadata": {},
   "source": [
    "The coefficient of EstimatedSalary variable is positive, indicating a posivite relationship between the Estimated Salary of customer and the likelihood of purchasing the product.\n",
    "\n",
    "Also, an increase in Estimated Salary of customer multiplies the odds of Purchasing by 3.8256."
   ]
  },
  {
   "cell_type": "markdown",
   "id": "26b0092d",
   "metadata": {},
   "source": [
    "### Question 4: Accuracy"
   ]
  },
  {
   "cell_type": "markdown",
   "id": "6c5dfd1a",
   "metadata": {},
   "source": [
    "Is accuracy a good metric to judge the above model?\n",
    "\n",
    "Accuracy is defined as the ratio of correctly predicted examples by the total examples. It is a good metric, because the ratio reflects the overall performance of our prediction model and tells us how often the classifier is being correct.\n",
    "\n",
    "However, other metrics such as precision and recall are also practical in assessing model performance. Precision measures the percentage of true positives among all predicted positives, showing how often is our model correct when predicting 'yes'. Similarly, recall refers to true positive rate, which measures the percentage of true positives among all actual positives. Recall shows how often the model predicts a 'yes' when it's actually 'yes'. \n",
    "\n",
    "The above alternatives provide us with more reliable evaluation of logistic regression models."
   ]
  },
  {
   "cell_type": "code",
   "execution_count": 70,
   "id": "30fa67b6",
   "metadata": {},
   "outputs": [],
   "source": [
    "# Additional exploration - Confusion Matrix\n",
    "y_pred = logit_model_two.predict(X_test)"
   ]
  },
  {
   "cell_type": "code",
   "execution_count": 71,
   "id": "f9faaad9",
   "metadata": {},
   "outputs": [
    {
     "name": "stdout",
     "output_type": "stream",
     "text": [
      "[[61  2]\n",
      " [12 25]]\n"
     ]
    }
   ],
   "source": [
    "from sklearn.metrics import confusion_matrix\n",
    "\n",
    "confusion_matrix = confusion_matrix(y_test, y_pred)\n",
    "print(confusion_matrix)"
   ]
  },
  {
   "cell_type": "code",
   "execution_count": 72,
   "id": "9ac4cce8",
   "metadata": {},
   "outputs": [
    {
     "name": "stdout",
     "output_type": "stream",
     "text": [
      "              precision    recall  f1-score   support\n",
      "\n",
      "           0       0.84      0.97      0.90        63\n",
      "           1       0.93      0.68      0.78        37\n",
      "\n",
      "    accuracy                           0.86       100\n",
      "   macro avg       0.88      0.82      0.84       100\n",
      "weighted avg       0.87      0.86      0.85       100\n",
      "\n"
     ]
    }
   ],
   "source": [
    "from sklearn.metrics import classification_report\n",
    "\n",
    "print(classification_report(y_test, y_pred))"
   ]
  },
  {
   "cell_type": "code",
   "execution_count": 74,
   "id": "0368c3c1",
   "metadata": {},
   "outputs": [
    {
     "data": {
      "image/png": "[encoded data removed]",
      "text/plain": [
       "<Figure size 432x288 with 1 Axes>"
      ]
     },
     "metadata": {
      "needs_background": "light"
     },
     "output_type": "display_data"
    }
   ],
   "source": [
    "# Additional exploration - ROC Curve\n",
    "\n",
    "from sklearn.metrics import roc_auc_score\n",
    "from sklearn.metrics import roc_curve\n",
    "import matplotlib.pyplot as plt\n",
    "\n",
    "logit_roc_auc = roc_auc_score(y_test, logit_model_two.predict(X_test))\n",
    "fpr, tpr, thresholds = roc_curve(y_test, logit_model_two.predict_proba(X_test)[:,1])\n",
    "plt.figure()\n",
    "plt.plot(fpr, tpr, label='Logistic Regression (area = %0.2f)' % logit_roc_auc)\n",
    "plt.plot([0, 1], [0, 1],'r--')\n",
    "plt.xlim([0.0, 1.0])\n",
    "plt.ylim([0.0, 1.05])\n",
    "plt.xlabel('False Positive Rate')\n",
    "plt.ylabel('True Positive Rate')\n",
    "plt.title('Receiver operating characteristic')\n",
    "plt.legend(loc=\"lower right\")\n",
    "plt.savefig('Log_ROC')\n",
    "plt.show()"
   ]
  },
  {
   "cell_type": "markdown",
   "id": "85991387",
   "metadata": {},
   "source": [
    "### Question 5: Interaction Plot"
   ]
  },
  {
   "cell_type": "code",
   "execution_count": 77,
   "id": "3db9b26b",
   "metadata": {},
   "outputs": [],
   "source": [
    "# Set the two featured variables\n",
    "Age = customer[['Age']]\n",
    "Gender = customer[['gender_class']]"
   ]
  },
  {
   "cell_type": "code",
   "execution_count": 78,
   "id": "6e710f91",
   "metadata": {},
   "outputs": [
    {
     "data": {
      "text/html": [
       "<div>\n",
       "<style scoped>\n",
       "    .dataframe tbody tr th:only-of-type {\n",
       "        vertical-align: middle;\n",
       "    }\n",
       "\n",
       "    .dataframe tbody tr th {\n",
       "        vertical-align: top;\n",
       "    }\n",
       "\n",
       "    .dataframe thead th {\n",
       "        text-align: right;\n",
       "    }\n",
       "</style>\n",
       "<table border=\"1\" class=\"dataframe\">\n",
       "  <thead>\n",
       "    <tr style=\"text-align: right;\">\n",
       "      <th></th>\n",
       "      <th>Age</th>\n",
       "    </tr>\n",
       "  </thead>\n",
       "  <tbody>\n",
       "    <tr>\n",
       "      <th>0</th>\n",
       "      <td>19</td>\n",
       "    </tr>\n",
       "    <tr>\n",
       "      <th>1</th>\n",
       "      <td>35</td>\n",
       "    </tr>\n",
       "    <tr>\n",
       "      <th>2</th>\n",
       "      <td>26</td>\n",
       "    </tr>\n",
       "    <tr>\n",
       "      <th>3</th>\n",
       "      <td>27</td>\n",
       "    </tr>\n",
       "    <tr>\n",
       "      <th>4</th>\n",
       "      <td>19</td>\n",
       "    </tr>\n",
       "    <tr>\n",
       "      <th>...</th>\n",
       "      <td>...</td>\n",
       "    </tr>\n",
       "    <tr>\n",
       "      <th>395</th>\n",
       "      <td>46</td>\n",
       "    </tr>\n",
       "    <tr>\n",
       "      <th>396</th>\n",
       "      <td>51</td>\n",
       "    </tr>\n",
       "    <tr>\n",
       "      <th>397</th>\n",
       "      <td>50</td>\n",
       "    </tr>\n",
       "    <tr>\n",
       "      <th>398</th>\n",
       "      <td>36</td>\n",
       "    </tr>\n",
       "    <tr>\n",
       "      <th>399</th>\n",
       "      <td>49</td>\n",
       "    </tr>\n",
       "  </tbody>\n",
       "</table>\n",
       "<p>400 rows × 1 columns</p>\n",
       "</div>"
      ],
      "text/plain": [
       "     Age\n",
       "0     19\n",
       "1     35\n",
       "2     26\n",
       "3     27\n",
       "4     19\n",
       "..   ...\n",
       "395   46\n",
       "396   51\n",
       "397   50\n",
       "398   36\n",
       "399   49\n",
       "\n",
       "[400 rows x 1 columns]"
      ]
     },
     "execution_count": 78,
     "metadata": {},
     "output_type": "execute_result"
    }
   ],
   "source": [
    "Age"
   ]
  },
  {
   "cell_type": "code",
   "execution_count": 79,
   "id": "a32e5d34",
   "metadata": {},
   "outputs": [
    {
     "data": {
      "text/html": [
       "<div>\n",
       "<style scoped>\n",
       "    .dataframe tbody tr th:only-of-type {\n",
       "        vertical-align: middle;\n",
       "    }\n",
       "\n",
       "    .dataframe tbody tr th {\n",
       "        vertical-align: top;\n",
       "    }\n",
       "\n",
       "    .dataframe thead th {\n",
       "        text-align: right;\n",
       "    }\n",
       "</style>\n",
       "<table border=\"1\" class=\"dataframe\">\n",
       "  <thead>\n",
       "    <tr style=\"text-align: right;\">\n",
       "      <th></th>\n",
       "      <th>gender_class</th>\n",
       "    </tr>\n",
       "  </thead>\n",
       "  <tbody>\n",
       "    <tr>\n",
       "      <th>0</th>\n",
       "      <td>1</td>\n",
       "    </tr>\n",
       "    <tr>\n",
       "      <th>1</th>\n",
       "      <td>1</td>\n",
       "    </tr>\n",
       "    <tr>\n",
       "      <th>2</th>\n",
       "      <td>0</td>\n",
       "    </tr>\n",
       "    <tr>\n",
       "      <th>3</th>\n",
       "      <td>0</td>\n",
       "    </tr>\n",
       "    <tr>\n",
       "      <th>4</th>\n",
       "      <td>1</td>\n",
       "    </tr>\n",
       "    <tr>\n",
       "      <th>...</th>\n",
       "      <td>...</td>\n",
       "    </tr>\n",
       "    <tr>\n",
       "      <th>395</th>\n",
       "      <td>0</td>\n",
       "    </tr>\n",
       "    <tr>\n",
       "      <th>396</th>\n",
       "      <td>1</td>\n",
       "    </tr>\n",
       "    <tr>\n",
       "      <th>397</th>\n",
       "      <td>0</td>\n",
       "    </tr>\n",
       "    <tr>\n",
       "      <th>398</th>\n",
       "      <td>1</td>\n",
       "    </tr>\n",
       "    <tr>\n",
       "      <th>399</th>\n",
       "      <td>0</td>\n",
       "    </tr>\n",
       "  </tbody>\n",
       "</table>\n",
       "<p>400 rows × 1 columns</p>\n",
       "</div>"
      ],
      "text/plain": [
       "    gender_class\n",
       "0              1\n",
       "1              1\n",
       "2              0\n",
       "3              0\n",
       "4              1\n",
       "..           ...\n",
       "395            0\n",
       "396            1\n",
       "397            0\n",
       "398            1\n",
       "399            0\n",
       "\n",
       "[400 rows x 1 columns]"
      ]
     },
     "execution_count": 79,
     "metadata": {},
     "output_type": "execute_result"
    }
   ],
   "source": [
    "Gender"
   ]
  },
  {
   "cell_type": "code",
   "execution_count": 80,
   "id": "88e1acab",
   "metadata": {},
   "outputs": [
    {
     "data": {
      "text/html": [
       "<div>\n",
       "<style scoped>\n",
       "    .dataframe tbody tr th:only-of-type {\n",
       "        vertical-align: middle;\n",
       "    }\n",
       "\n",
       "    .dataframe tbody tr th {\n",
       "        vertical-align: top;\n",
       "    }\n",
       "\n",
       "    .dataframe thead th {\n",
       "        text-align: right;\n",
       "    }\n",
       "</style>\n",
       "<table border=\"1\" class=\"dataframe\">\n",
       "  <thead>\n",
       "    <tr style=\"text-align: right;\">\n",
       "      <th></th>\n",
       "      <th>Purchased</th>\n",
       "    </tr>\n",
       "  </thead>\n",
       "  <tbody>\n",
       "    <tr>\n",
       "      <th>0</th>\n",
       "      <td>0</td>\n",
       "    </tr>\n",
       "    <tr>\n",
       "      <th>1</th>\n",
       "      <td>0</td>\n",
       "    </tr>\n",
       "    <tr>\n",
       "      <th>2</th>\n",
       "      <td>0</td>\n",
       "    </tr>\n",
       "    <tr>\n",
       "      <th>3</th>\n",
       "      <td>0</td>\n",
       "    </tr>\n",
       "    <tr>\n",
       "      <th>4</th>\n",
       "      <td>0</td>\n",
       "    </tr>\n",
       "    <tr>\n",
       "      <th>...</th>\n",
       "      <td>...</td>\n",
       "    </tr>\n",
       "    <tr>\n",
       "      <th>395</th>\n",
       "      <td>1</td>\n",
       "    </tr>\n",
       "    <tr>\n",
       "      <th>396</th>\n",
       "      <td>1</td>\n",
       "    </tr>\n",
       "    <tr>\n",
       "      <th>397</th>\n",
       "      <td>1</td>\n",
       "    </tr>\n",
       "    <tr>\n",
       "      <th>398</th>\n",
       "      <td>0</td>\n",
       "    </tr>\n",
       "    <tr>\n",
       "      <th>399</th>\n",
       "      <td>1</td>\n",
       "    </tr>\n",
       "  </tbody>\n",
       "</table>\n",
       "<p>400 rows × 1 columns</p>\n",
       "</div>"
      ],
      "text/plain": [
       "     Purchased\n",
       "0            0\n",
       "1            0\n",
       "2            0\n",
       "3            0\n",
       "4            0\n",
       "..         ...\n",
       "395          1\n",
       "396          1\n",
       "397          1\n",
       "398          0\n",
       "399          1\n",
       "\n",
       "[400 rows x 1 columns]"
      ]
     },
     "execution_count": 80,
     "metadata": {},
     "output_type": "execute_result"
    }
   ],
   "source": [
    "# y as the ‘Purchased’ output\n",
    "y"
   ]
  },
  {
   "cell_type": "code",
   "execution_count": 108,
   "id": "68a4d24a",
   "metadata": {},
   "outputs": [
    {
     "data": {
      "text/html": [
       "<div>\n",
       "<style scoped>\n",
       "    .dataframe tbody tr th:only-of-type {\n",
       "        vertical-align: middle;\n",
       "    }\n",
       "\n",
       "    .dataframe tbody tr th {\n",
       "        vertical-align: top;\n",
       "    }\n",
       "\n",
       "    .dataframe thead th {\n",
       "        text-align: right;\n",
       "    }\n",
       "</style>\n",
       "<table border=\"1\" class=\"dataframe\">\n",
       "  <thead>\n",
       "    <tr style=\"text-align: right;\">\n",
       "      <th></th>\n",
       "      <th>Age</th>\n",
       "      <th>EstimatedSalary</th>\n",
       "      <th>gender_class</th>\n",
       "      <th>Purchased</th>\n",
       "    </tr>\n",
       "  </thead>\n",
       "  <tbody>\n",
       "    <tr>\n",
       "      <th>0</th>\n",
       "      <td>19</td>\n",
       "      <td>19000</td>\n",
       "      <td>1</td>\n",
       "      <td>0</td>\n",
       "    </tr>\n",
       "    <tr>\n",
       "      <th>1</th>\n",
       "      <td>35</td>\n",
       "      <td>20000</td>\n",
       "      <td>1</td>\n",
       "      <td>0</td>\n",
       "    </tr>\n",
       "    <tr>\n",
       "      <th>2</th>\n",
       "      <td>26</td>\n",
       "      <td>43000</td>\n",
       "      <td>0</td>\n",
       "      <td>0</td>\n",
       "    </tr>\n",
       "    <tr>\n",
       "      <th>3</th>\n",
       "      <td>27</td>\n",
       "      <td>57000</td>\n",
       "      <td>0</td>\n",
       "      <td>0</td>\n",
       "    </tr>\n",
       "    <tr>\n",
       "      <th>4</th>\n",
       "      <td>19</td>\n",
       "      <td>76000</td>\n",
       "      <td>1</td>\n",
       "      <td>0</td>\n",
       "    </tr>\n",
       "    <tr>\n",
       "      <th>...</th>\n",
       "      <td>...</td>\n",
       "      <td>...</td>\n",
       "      <td>...</td>\n",
       "      <td>...</td>\n",
       "    </tr>\n",
       "    <tr>\n",
       "      <th>395</th>\n",
       "      <td>46</td>\n",
       "      <td>41000</td>\n",
       "      <td>0</td>\n",
       "      <td>1</td>\n",
       "    </tr>\n",
       "    <tr>\n",
       "      <th>396</th>\n",
       "      <td>51</td>\n",
       "      <td>23000</td>\n",
       "      <td>1</td>\n",
       "      <td>1</td>\n",
       "    </tr>\n",
       "    <tr>\n",
       "      <th>397</th>\n",
       "      <td>50</td>\n",
       "      <td>20000</td>\n",
       "      <td>0</td>\n",
       "      <td>1</td>\n",
       "    </tr>\n",
       "    <tr>\n",
       "      <th>398</th>\n",
       "      <td>36</td>\n",
       "      <td>33000</td>\n",
       "      <td>1</td>\n",
       "      <td>0</td>\n",
       "    </tr>\n",
       "    <tr>\n",
       "      <th>399</th>\n",
       "      <td>49</td>\n",
       "      <td>36000</td>\n",
       "      <td>0</td>\n",
       "      <td>1</td>\n",
       "    </tr>\n",
       "  </tbody>\n",
       "</table>\n",
       "<p>400 rows × 4 columns</p>\n",
       "</div>"
      ],
      "text/plain": [
       "     Age  EstimatedSalary gender_class  Purchased\n",
       "0     19            19000            1          0\n",
       "1     35            20000            1          0\n",
       "2     26            43000            0          0\n",
       "3     27            57000            0          0\n",
       "4     19            76000            1          0\n",
       "..   ...              ...          ...        ...\n",
       "395   46            41000            0          1\n",
       "396   51            23000            1          1\n",
       "397   50            20000            0          1\n",
       "398   36            33000            1          0\n",
       "399   49            36000            0          1\n",
       "\n",
       "[400 rows x 4 columns]"
      ]
     },
     "execution_count": 108,
     "metadata": {},
     "output_type": "execute_result"
    }
   ],
   "source": [
    "# Check the dataset is correct:\n",
    "customer"
   ]
  },
  {
   "cell_type": "code",
   "execution_count": 111,
   "id": "fa1a8570",
   "metadata": {},
   "outputs": [
    {
     "data": {
      "image/png": "[encoded data removed]",
      "text/plain": [
       "<Figure size 432x288 with 1 Axes>"
      ]
     },
     "metadata": {
      "needs_background": "light"
     },
     "output_type": "display_data"
    }
   ],
   "source": [
    "# Plot the interactions of the ‘Age’ and ‘Gender’ features with the ‘Purchased’ output\n",
    "from statsmodels.graphics.factorplots import interaction_plot\n",
    "import matplotlib.pyplot as plt\n",
    "\n",
    "# Help with the function - \"interaction_plot?\"\"\n",
    "interaction_plot(customer['Age'], customer['gender_class'],customer['Purchased'], xlabel='Age', ylabel='Purchased', \n",
    "                 colors=['red','blue'], markers=['D','^'])\n",
    "plt.show()"
   ]
  },
  {
   "cell_type": "markdown",
   "id": "41db7cc3",
   "metadata": {},
   "source": [
    "### Question 6: Effect of \"Income\" and Change in \"savings\" on \"Likelihood of buying a house\""
   ]
  },
  {
   "cell_type": "markdown",
   "id": "6353b702",
   "metadata": {},
   "source": [
    "For each plot: Should the regression equation include the interaction terms (interaction between Income and Average Savings) or not? \n",
    "\n",
    "Why or why shouldn’t they be included？"
   ]
  },
  {
   "cell_type": "markdown",
   "id": "4e6fb4ae",
   "metadata": {},
   "source": [
    "- (a) Should include the interaction term:\n",
    "\n",
    "Interaction plot(a) shows that increase in average savings will overall increase the likelihood of buying a house in terms of all income levels. However, the slope and intercept of the three lines are different from each other, which indicates that switching between different income groups does change the effect of savings on the dependent variable y (likelihood).\n",
    "\n",
    "- (b) Should include the interaction term:\n",
    "\n",
    "Interaction plot(b) shows that increase in average savings will increase the likelihood of buying a house for low-income group, but will decrease the likelihood for high-income group. That is to say, the effect of average savings on likelihood of buying a house is affected by which income group a person belongs to. When average savings increase, the outcome that a customer is more/less likely to buy a house is determined by whether he(she) has low/high income. \n",
    "\n",
    "- (c) Should not include the interaction term:\n",
    "\n",
    "Interaction plot(c) shows that increase in average savings will decrease the likelihood of buying a house for both low- and high-income group. The slope of two lines are the same, though they have different intercepts. Therefore, the income level has additive effect on y(likelihood). No need to add interaction term here. "
   ]
  }
 ],
 "metadata": {
  "kernelspec": {
   "display_name": "Python 3 (ipykernel)",
   "language": "python",
   "name": "python3"
  },
  "language_info": {
   "codemirror_mode": {
    "name": "ipython",
    "version": 3
   },
   "file_extension": ".py",
   "mimetype": "text/x-python",
   "name": "python",
   "nbconvert_exporter": "python",
   "pygments_lexer": "ipython3",
   "version": "3.9.12"
  }
 },
 "nbformat": 4,
 "nbformat_minor": 5
}
